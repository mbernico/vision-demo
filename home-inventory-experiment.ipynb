{
 "cells": [
  {
   "cell_type": "markdown",
   "metadata": {},
   "source": [
    "# Home Inventory Demo\n",
    "\n",
    "This Demo uses the Google Cloud Vision API to create a home inventory, using casually collected photos of a home."
   ]
  },
  {
   "cell_type": "code",
   "execution_count": 1,
   "metadata": {},
   "outputs": [],
   "source": [
    "# Uncomment and run this to install dependencies.\n",
    "# pip install --upgrade google-cloud-vision"
   ]
  },
  {
   "cell_type": "code",
   "execution_count": 4,
   "metadata": {},
   "outputs": [],
   "source": [
    "import io\n",
    "import os\n",
    "\n",
    "# Imports the Google Cloud client library\n",
    "from google.cloud import vision_v1, vision_v1p4beta1\n",
    "\n",
    "from util import helpers, data_classes"
   ]
  },
  {
   "cell_type": "code",
   "execution_count": 5,
   "metadata": {},
   "outputs": [],
   "source": [
    "# Instantiates a client\n",
    "client = vision_v1.ImageAnnotatorClient()\n",
    "\n",
    "pclient = vision_v1p4beta1.ImageAnnotatorClient()"
   ]
  },
  {
   "cell_type": "code",
   "execution_count": 6,
   "metadata": {},
   "outputs": [],
   "source": [
    "request = {\n",
    "    'image': {\n",
    "        'source': {'image_uri': 'gs://mikebernico-sandbox-sf-home-inventory-demo/MVIMG_20200310_112705.jpg'},\n",
    "    },\n",
    "}"
   ]
  },
  {
   "cell_type": "code",
   "execution_count": 5,
   "metadata": {},
   "outputs": [],
   "source": [
    "response = client.annotate_image(request)"
   ]
  },
  {
   "cell_type": "code",
   "execution_count": 7,
   "metadata": {},
   "outputs": [],
   "source": [
    "response = pclient.annotate_image(request)"
   ]
  },
  {
   "cell_type": "code",
   "execution_count": 12,
   "metadata": {},
   "outputs": [
    {
     "data": {
      "text/plain": []
     },
     "execution_count": 12,
     "metadata": {},
     "output_type": "execute_result"
    }
   ],
   "source": [
    "response.product_search_results"
   ]
  },
  {
   "cell_type": "code",
   "execution_count": 6,
   "metadata": {},
   "outputs": [],
   "source": [
    "home_objects = []"
   ]
  },
  {
   "cell_type": "code",
   "execution_count": 10,
   "metadata": {},
   "outputs": [],
   "source": [
    "\"\"\"Example localized_object_annotation\n",
    "[mid: \"/m/040b_t\"\n",
    "name: \"Refrigerator\"\n",
    "score: 0.9428831338882446\n",
    "bounding_poly {\n",
    "  normalized_vertices {\n",
    "    x: 0.02349490113556385\n",
    "    y: 0.3256329596042633\n",
    "  }\n",
    "  normalized_vertices {\n",
    "    x: 0.478804349899292\n",
    "    y: 0.3256329596042633\n",
    "  }\n",
    "  normalized_vertices {\n",
    "    x: 0.478804349899292\n",
    "    y: 0.9935383796691895\n",
    "  }\n",
    "  normalized_vertices {\n",
    "    x: 0.02349490113556385\n",
    "    y: 0.9935383796691895\n",
    "  }\n",
    "}\n",
    "]\n",
    "\"\"\"\n",
    "home_objects = [] # list to hold home objects\n",
    "width = response.full_text_annotation.pages[0].width # image width, needed to normalize text_annotations\n",
    "height = response.full_text_annotation.pages[0].height # image height, needed to normalize text_annotations\n",
    "\n",
    "# Parse text_annotations\n",
    "text_annotations = []\n",
    "for a in response.text_annotations:\n",
    "    new_text_annotation = data_classes.text_annotation(a.description, height, width)\n",
    "    new_text_annotation.update_location(a.bounding_poly.vertices[0], a.bounding_poly.vertices[3])\n",
    "    text_annotations.append(new_text_annotation)\n",
    "    \n",
    "# Parse object responses\n",
    "for r in response.localized_object_annotations:\n",
    "    new_home_object = data_classes.home_object(r.name, r.score)\n",
    "    new_home_object.update_location(r.bounding_poly.normalized_vertices[0], r.bounding_poly.normalized_vertices[3])\n",
    "    home_objects.append(new_home_object)\n",
    "    \n",
    "    # Append intersecting text annotations onto home objects\n",
    "    for t in text_annotations:\n",
    "        iou = helpers.bb_intersection_over_union(new_home_object.location, t.location)\n",
    "        if iou > 0.5:\n",
    "            new_home_object.object_text += \" \" + t.text\n",
    "    \n"
   ]
  },
  {
   "cell_type": "code",
   "execution_count": 11,
   "metadata": {},
   "outputs": [
    {
     "name": "stdout",
     "output_type": "stream",
     "text": [
      "Refrigerator\n",
      " 11:26\n",
      "---\n",
      "BOSCH\n",
      "COCOA\n",
      "KISSES\n",
      "Live\n",
      "e BOSCH\n",
      "MILAGRO\n",
      "UTEN TREE\n",
      "DO\n",
      "0000\n",
      "BOSCH\n",
      "\n",
      "Microwave oven\n",
      " 11 : 26 - - - BOSCH DO 0000\n",
      "Oven\n",
      " Live MILAGRO UTEN TREE DO 0000 BOSCH\n"
     ]
    }
   ],
   "source": [
    "for h in home_objects:\n",
    "    print(h.name)\n",
    "    print(h.object_text)"
   ]
  },
  {
   "cell_type": "code",
   "execution_count": null,
   "metadata": {},
   "outputs": [],
   "source": [
    "\n",
    "\n",
    "    \n"
   ]
  },
  {
   "cell_type": "code",
   "execution_count": 8,
   "metadata": {},
   "outputs": [
    {
     "name": "stdout",
     "output_type": "stream",
     "text": [
      "Refrigerator\n",
      "**--------**\n",
      "11:26\n",
      "---\n",
      "BOSCH\n",
      "COCOA\n",
      "KISSES\n",
      "Live\n",
      "e BOSCH\n",
      "MILAGRO\n",
      "UTEN TREE\n",
      "DO\n",
      "0000\n",
      "BOSCH\n",
      "\n",
      "Microwave oven\n",
      "**--------**\n",
      "11\n",
      ":\n",
      "26\n",
      "-\n",
      "-\n",
      "-\n",
      "BOSCH\n",
      "DO\n",
      "0000\n",
      "Oven\n",
      "**--------**\n",
      "Live\n",
      "MILAGRO\n",
      "UTEN\n",
      "TREE\n",
      "DO\n",
      "0000\n",
      "BOSCH\n"
     ]
    }
   ],
   "source": [
    "for h in home_objects:\n",
    "    print(h.name)\n",
    "    print(\"**--------**\")\n",
    "    for t in text_annotations:\n",
    "        iou = helpers.bb_intersection_over_union(h.location, t.location)\n",
    "        if iou > 0.5:\n",
    "            print (t.text)"
   ]
  },
  {
   "cell_type": "code",
   "execution_count": null,
   "metadata": {},
   "outputs": [],
   "source": []
  },
  {
   "cell_type": "code",
   "execution_count": null,
   "metadata": {},
   "outputs": [],
   "source": []
  }
 ],
 "metadata": {
  "kernelspec": {
   "display_name": "Python 3",
   "language": "python",
   "name": "python3"
  },
  "language_info": {
   "codemirror_mode": {
    "name": "ipython",
    "version": 3
   },
   "file_extension": ".py",
   "mimetype": "text/x-python",
   "name": "python",
   "nbconvert_exporter": "python",
   "pygments_lexer": "ipython3",
   "version": "3.7.5"
  }
 },
 "nbformat": 4,
 "nbformat_minor": 4
}
