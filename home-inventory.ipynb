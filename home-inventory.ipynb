{
 "cells": [
  {
   "cell_type": "markdown",
   "metadata": {},
   "source": [
    "# Home Inventory Demo\n",
    "\n",
    "This Demo uses the Google Cloud Vision API to create a home inventory, using casually collected photos of a home."
   ]
  },
  {
   "cell_type": "code",
   "execution_count": 57,
   "metadata": {},
   "outputs": [],
   "source": [
    "# Uncomment and run this to install dependencies.\n",
    "# pip install --upgrade google-cloud-vision"
   ]
  },
  {
   "cell_type": "code",
   "execution_count": 58,
   "metadata": {},
   "outputs": [],
   "source": [
    "import csv\n",
    "\n",
    "from google.cloud import vision_v1\n",
    "\n",
    "from util import helpers, data_classes"
   ]
  },
  {
   "cell_type": "code",
   "execution_count": 59,
   "metadata": {},
   "outputs": [],
   "source": [
    "# Instantiates a client\n",
    "client = vision_v1.ImageAnnotatorClient()"
   ]
  },
  {
   "cell_type": "code",
   "execution_count": 60,
   "metadata": {},
   "outputs": [],
   "source": [
    "gs_uris = helpers.get_image_uris(\"mikebernico-sandbox-sf-home-inventory-demo\")"
   ]
  },
  {
   "cell_type": "code",
   "execution_count": 61,
   "metadata": {},
   "outputs": [],
   "source": [
    "home_objects = [] # list to hold home objects\n",
    "\n",
    "for uri in gs_uris:\n",
    "    request = helpers.build_request(uri)\n",
    "    response = client.annotate_image(request)\n",
    "    \n",
    "    if response.full_text_annotation.pages:\n",
    "        width = response.full_text_annotation.pages[0].width # image width, needed to normalize text_annotations\n",
    "        height = response.full_text_annotation.pages[0].height # image height, needed to normalize text_annotations\n",
    "    \n",
    "    # Parse text_annotations\n",
    "    text_annotations = []\n",
    "    for a in response.text_annotations:\n",
    "        clean_text = a.description.replace('\\n',' ')\n",
    "        new_text_annotation = data_classes.text_annotation(clean_text, height, width)\n",
    "        new_text_annotation.update_location(a.bounding_poly.vertices[0], a.bounding_poly.vertices[3])\n",
    "        text_annotations.append(new_text_annotation)\n",
    "    \n",
    "        # Parse object responses\n",
    "    for r in response.localized_object_annotations:\n",
    "        new_home_object = data_classes.home_object(r.name, r.score)\n",
    "        new_home_object.update_location(r.bounding_poly.normalized_vertices[0], r.bounding_poly.normalized_vertices[3])      \n",
    "        home_objects.append(new_home_object)\n",
    "    \n",
    "        # Append intersecting text annotations onto home objects\n",
    "        for t in text_annotations:\n",
    "            iou = helpers.bb_intersection_over_union(new_home_object.location, t.location)\n",
    "            if iou > 0.5:\n",
    "                new_home_object.object_text += \" \" + t.text"
   ]
  },
  {
   "cell_type": "code",
   "execution_count": 62,
   "metadata": {},
   "outputs": [],
   "source": [
    "with open('inventory.csv', 'w') as csvfile:\n",
    "    filewriter = csv.writer(csvfile, delimiter=',',\n",
    "                            quotechar='|', quoting=csv.QUOTE_MINIMAL)\n",
    "    filewriter.writerow(['Item Name', 'Score', 'Object Text'])\n",
    "    for item in home_objects:\n",
    "        filewriter.writerow([item.name, item.score, item.object_text])\n",
    "        "
   ]
  },
  {
   "cell_type": "code",
   "execution_count": null,
   "metadata": {},
   "outputs": [],
   "source": []
  },
  {
   "cell_type": "code",
   "execution_count": null,
   "metadata": {},
   "outputs": [],
   "source": []
  }
 ],
 "metadata": {
  "kernelspec": {
   "display_name": "Python 3",
   "language": "python",
   "name": "python3"
  },
  "language_info": {
   "codemirror_mode": {
    "name": "ipython",
    "version": 3
   },
   "file_extension": ".py",
   "mimetype": "text/x-python",
   "name": "python",
   "nbconvert_exporter": "python",
   "pygments_lexer": "ipython3",
   "version": "3.7.5"
  }
 },
 "nbformat": 4,
 "nbformat_minor": 4
}
